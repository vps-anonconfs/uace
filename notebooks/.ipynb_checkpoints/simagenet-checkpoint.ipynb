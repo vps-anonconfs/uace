{
 "cells": [
  {
   "cell_type": "code",
   "execution_count": 2,
   "metadata": {
    "tags": []
   },
   "outputs": [
    {
     "name": "stdout",
     "output_type": "stream",
     "text": [
      "Read /scratch/vp421/salient_imagenet_dataset/discover_spurious_features.csv and read 5000 answers\n",
      "Read /scratch/vp421/salient_imagenet_dataset/discover_spurious_features.csv and read 5000 answers\n",
      "[1581] [1941, 1247, 1326, 1390] 306\n",
      "[925, 1468] [1500, 427, 957] 142\n",
      "[1401] [1065, 151, 2004, 6] 270\n",
      "[1797] [402, 754, 1178, 1390] 319\n",
      "[665] [1317, 490, 960, 797] 366\n",
      "[778] [686, 59, 449, 227] 389\n"
     ]
    }
   ],
   "source": [
    "import sys\n",
    "sys.path.append(\"../\")\n",
    "from mydatasets.salient_imagenet import get_simagenet\n",
    "\n",
    "dat  = get_simagenet(class_idxs=[306, 142, 270, 319, 366, 389])"
   ]
  },
  {
   "cell_type": "code",
   "execution_count": 3,
   "metadata": {
    "ExecuteTime": {
     "end_time": "2024-02-07T12:08:33.349760583Z",
     "start_time": "2024-02-07T12:08:33.345987533Z"
    },
    "collapsed": false,
    "jupyter": {
     "outputs_hidden": false
    },
    "tags": []
   },
   "outputs": [],
   "source": [
    "import pandas as pd\n",
    "\n",
    "x = pd.read_csv(\"/scratch/vp421/salient_imagenet_dataset/discover_spurious_features.csv\")"
   ]
  },
  {
   "cell_type": "code",
   "execution_count": 29,
   "metadata": {
    "tags": []
   },
   "outputs": [],
   "source": [
    "from collections import Counter\n",
    "import re\n",
    "patt = re.compile('^\\W+|\\W+$')\n",
    "\n",
    "def process(line):\n",
    "    line = line.lower().strip()\n",
    "    line = patt.sub('', line)\n",
    "    return line.split()\n",
    "counts = Counter(sum(map(lambda _: process(_), list(x['Answer.reasons'])), start=[]))"
   ]
  },
  {
   "cell_type": "code",
   "execution_count": 30,
   "metadata": {
    "tags": []
   },
   "outputs": [
    {
     "name": "stdout",
     "output_type": "stream",
     "text": [
      "6526\n",
      "['body', 'tench', 'part', 'red', 'region', 'highlighted', 'visual', 'attributes', 'fish', 'main', 'tinca', 'obect', 'whose', 'got', 'middle', 'abdomen', 'object', 'whole', 'stomach', 'belly'] 2080\n"
     ]
    }
   ],
   "source": [
    "from stop_words import get_stop_words\n",
    "\n",
    "stop_words = get_stop_words('en')\n",
    "stop_words.append('focus')\n",
    "\n",
    "print(len(counts))\n",
    "word_lst = [c for c in counts if (c not in stop_words) and counts[c] > 4]\n",
    "print(word_lst[:20], len(word_lst))\n",
    "        "
   ]
  },
  {
   "cell_type": "code",
   "execution_count": 33,
   "metadata": {
    "tags": []
   },
   "outputs": [
    {
     "data": {
      "text/plain": [
       "True"
      ]
     },
     "execution_count": 33,
     "metadata": {},
     "output_type": "execute_result"
    }
   ],
   "source": [
    "'hand' in word_lst"
   ]
  },
  {
   "cell_type": "code",
   "execution_count": 9,
   "metadata": {
    "tags": []
   },
   "outputs": [
    {
     "name": "stdout",
     "output_type": "stream",
     "text": [
      "Read /scratch/vp421/salient_imagenet_dataset/discover_spurious_features.csv and read 5000 answers\n",
      "Read /scratch/vp421/salient_imagenet_dataset/discover_spurious_features.csv and read 5000 answers\n",
      "dogsled, dog sled, dog sleigh\n",
      "[('uace_none', 0, 1), ('uace', 0, 3), ('ocbm', 0, 11), ('ycbm', 0, 10)]\n",
      "howler monkey, howler\n",
      "[('uace_none', 0, 68), ('uace', 0, 14), ('ocbm', 0, 15), ('ycbm', 0, 4)]\n",
      "seat belt, seatbelt\n",
      "[('uace_none', 0, 6), ('uace', 0, 3), ('ocbm', 0, 18), ('ycbm', 0, 6)]\n",
      "ski\n",
      "[('uace_none', 0, 1), ('uace', 0, 4), ('ocbm', 0, 10), ('ycbm', 0, 2)]\n",
      "volleyball\n",
      "[('uace_none', 0, 2), ('uace', 0, 1), ('ocbm', 0, 2), ('ycbm', 0, 1)]\n",
      "boathouse\n",
      "[('uace_none', 0, 25), ('uace', 0, 1), ('ocbm', 0, 1), ('ycbm', 0, 2)]\n",
      "bee\n",
      "[('uace_none', 0, 43), ('uace', 0, 6), ('ocbm', 0, 11), ('ycbm', 0, 12)]\n",
      "plate\n",
      "[('uace_none', 0, 1), ('uace', 0, 1), ('ocbm', 0, 4), ('ycbm', 0, 1)]\n",
      "barracouta, snoek\n",
      "[('uace_none', 0, 209), ('uace', 0, 117), ('ocbm', 0, 222), ('ycbm', 0, 47)]\n",
      "llama\n",
      "[('uace_none', 0, 37), ('uace', 0, 12), ('ocbm', 0, 13), ('ycbm', 0, 6)]\n",
      "rhinoceros beetle\n",
      "[('uace_none', 0, 495), ('uace', 0, 20), ('ocbm', 0, 36), ('ycbm', 0, 84)]\n",
      "dowitcher\n",
      "[('uace_none', 0, 31), ('uace', 0, 17), ('ocbm', 0, 70), ('ycbm', 0, 22)]\n",
      "white wolf, Arctic wolf, Canis lupus tundrarum\n",
      "[('uace_none', 0, 242), ('uace', 0, 178), ('ocbm', 0, 17), ('ycbm', 0, 29)]\n",
      "dragonfly, darning needle, devil's darning needle, sewing needle, snake feeder, snake doctor, mosquito hawk, skeeter hawk\n",
      "[('uace_none', 0, 535), ('uace', 0, 27), ('ocbm', 0, 75), ('ycbm', 0, 369)]\n",
      "gorilla, Gorilla gorilla\n",
      "[('uace_none', 0, 65), ('uace', 0, 17), ('ocbm', 0, 173), ('ycbm', 0, 182)]\n",
      "shovel\n",
      "[('uace_none', 0, 2), ('uace', 0, 3), ('ocbm', 0, 15), ('ycbm', 0, 1)]\n",
      "doormat, welcome mat\n",
      "[('uace_none', 0, 3), ('uace', 0, 1), ('ocbm', 0, 2), ('ycbm', 0, 2)]\n",
      "ruddy turnstone, Arenaria interpres\n",
      "[('uace_none', 0, 22), ('uace', 0, 11), ('ocbm', 0, 10), ('ycbm', 0, 8)]\n",
      "albatross, mollymawk\n"
     ]
    },
    {
     "ename": "KeyboardInterrupt",
     "evalue": "",
     "output_type": "error",
     "traceback": [
      "\u001b[0;31m---------------------------------------------------------------------------\u001b[0m",
      "\u001b[0;31mKeyboardInterrupt\u001b[0m                         Traceback (most recent call last)",
      "Cell \u001b[0;32mIn[9], line 91\u001b[0m\n\u001b[1;32m     89\u001b[0m ann \u001b[38;5;241m=\u001b[39m annotations[class_idx]\n\u001b[1;32m     90\u001b[0m \u001b[38;5;28mprint\u001b[39m(class_name)\n\u001b[0;32m---> 91\u001b[0m res \u001b[38;5;241m=\u001b[39m \u001b[43mget_scores\u001b[49m\u001b[43m(\u001b[49m\u001b[43mann\u001b[49m\u001b[43m,\u001b[49m\u001b[43m \u001b[49m\u001b[43mci\u001b[49m\u001b[43m)\u001b[49m\n\u001b[1;32m     92\u001b[0m \u001b[38;5;28;01mfor\u001b[39;00m (alg, c_score, s_score) \u001b[38;5;129;01min\u001b[39;00m res:\n\u001b[1;32m     93\u001b[0m     scores[alg] \u001b[38;5;241m=\u001b[39m [_s1 \u001b[38;5;241m+\u001b[39m _s2 \u001b[38;5;28;01mfor\u001b[39;00m _s1, _s2 \u001b[38;5;129;01min\u001b[39;00m \u001b[38;5;28mzip\u001b[39m(scores[alg], [s_score\u001b[38;5;241m<\u001b[39m\u001b[38;5;241m=\u001b[39m\u001b[38;5;241m10\u001b[39m, s_score\u001b[38;5;241m<\u001b[39m\u001b[38;5;241m=\u001b[39m\u001b[38;5;241m25\u001b[39m, s_score\u001b[38;5;241m<\u001b[39m\u001b[38;5;241m=\u001b[39m\u001b[38;5;241m50\u001b[39m])]\n",
      "Cell \u001b[0;32mIn[9], line 78\u001b[0m, in \u001b[0;36mget_scores\u001b[0;34m(ann_dict, ci)\u001b[0m\n\u001b[1;32m     76\u001b[0m \u001b[38;5;28;01melse\u001b[39;00m:\n\u001b[1;32m     77\u001b[0m     wts \u001b[38;5;241m=\u001b[39m cbe[alg][ci]\n\u001b[0;32m---> 78\u001b[0m ranks \u001b[38;5;241m=\u001b[39m \u001b[43mget_rank\u001b[49m\u001b[43m(\u001b[49m\u001b[43mwts\u001b[49m\u001b[43m)\u001b[49m\n\u001b[1;32m     79\u001b[0m \u001b[38;5;66;03m# print([ranks[concepts.index(f)] for f in c])\u001b[39;00m\n\u001b[1;32m     80\u001b[0m \u001b[38;5;66;03m# c_score = min([ranks[concepts.index(f)] for f in c])\u001b[39;00m\n\u001b[1;32m     81\u001b[0m c_score \u001b[38;5;241m=\u001b[39m \u001b[38;5;241m0\u001b[39m\n",
      "Cell \u001b[0;32mIn[9], line 67\u001b[0m, in \u001b[0;36mget_rank\u001b[0;34m(scores)\u001b[0m\n\u001b[1;32m     65\u001b[0m \u001b[38;5;28;01mdef\u001b[39;00m \u001b[38;5;21mget_rank\u001b[39m(scores):\n\u001b[1;32m     66\u001b[0m     idxs \u001b[38;5;241m=\u001b[39m \u001b[38;5;28mlist\u001b[39m(stable_argsort(scores, concepts))\n\u001b[0;32m---> 67\u001b[0m     \u001b[38;5;28;01mreturn\u001b[39;00m np\u001b[38;5;241m.\u001b[39marray([idxs\u001b[38;5;241m.\u001b[39mindex(idx) \u001b[38;5;241m+\u001b[39m \u001b[38;5;241m1\u001b[39m \u001b[38;5;28;01mfor\u001b[39;00m idx \u001b[38;5;129;01min\u001b[39;00m \u001b[38;5;28mrange\u001b[39m(\u001b[38;5;28mlen\u001b[39m(scores))])\n",
      "Cell \u001b[0;32mIn[9], line 67\u001b[0m, in \u001b[0;36m<listcomp>\u001b[0;34m(.0)\u001b[0m\n\u001b[1;32m     65\u001b[0m \u001b[38;5;28;01mdef\u001b[39;00m \u001b[38;5;21mget_rank\u001b[39m(scores):\n\u001b[1;32m     66\u001b[0m     idxs \u001b[38;5;241m=\u001b[39m \u001b[38;5;28mlist\u001b[39m(stable_argsort(scores, concepts))\n\u001b[0;32m---> 67\u001b[0m     \u001b[38;5;28;01mreturn\u001b[39;00m np\u001b[38;5;241m.\u001b[39marray([\u001b[43midxs\u001b[49m\u001b[38;5;241;43m.\u001b[39;49m\u001b[43mindex\u001b[49m\u001b[43m(\u001b[49m\u001b[43midx\u001b[49m\u001b[43m)\u001b[49m \u001b[38;5;241m+\u001b[39m \u001b[38;5;241m1\u001b[39m \u001b[38;5;28;01mfor\u001b[39;00m idx \u001b[38;5;129;01min\u001b[39;00m \u001b[38;5;28mrange\u001b[39m(\u001b[38;5;28mlen\u001b[39m(scores))])\n",
      "\u001b[0;31mKeyboardInterrupt\u001b[0m: "
     ]
    }
   ],
   "source": [
    "import pickle\n",
    "import numpy as np\n",
    "import sys\n",
    "sys.path.append('..')\n",
    "from mydatasets.salient_imagenet import SalientImagenet, CLASS_NAMES\n",
    "\n",
    "model_dir = \"../lightning_logs\"\n",
    "with open(f\"{model_dir}/simagenet_expts.pkl\", \"rb\") as f:\n",
    "    cbe = pickle.load(f)\n",
    "    \n",
    "dat = SalientImagenet()\n",
    "# uace_wts = cbe['ocbm']\n",
    "\n",
    "annotations = {\n",
    "    537: {'core': ['dogsled', 'snowmobile'], 'spurious': ['snow', 'dog', 'tree', 'trees', 'husky']},\n",
    "    379: {'core': ['monkey', 'monkeys', 'gibbon'], 'spurious': ['trunk', 'green', 'branches', 'branch', 'vegetation']},\n",
    "    785: {'core': ['seatbelt'], 'spurious': ['passenger', 'window', 'sunglasses', 'van']},\n",
    "    795: {'core': ['ski'], 'spurious': ['tree', 'trees', 'snow', 'mountain', 'person', 'sunglasses']},\n",
    "    890: {'core': ['volleyball', 'ball'], 'spurious': ['sand', 'players', 'player', 'setter', 'scoreboard', 'net']},\n",
    "    449: {'core': ['boathouse', 'house'], 'spurious': ['lake', 'water', 'dock', 'boat', 'shore']},\n",
    "    309: {'core': ['bee'], 'spurious': ['flower', 'daisy', 'petals']},\n",
    "    923: {'core': ['plate', 'plates'], 'spurious': ['food', 'table', 'dining']},\n",
    "    389: {'core': ['fish'], 'spurious': ['person', 'face', 'hands', 'hand', 'sunglasses', 'cap']},\n",
    "    355: {'core': ['llama'], 'spurious': ['hay', 'grass', 'green', 'greens']},\n",
    "    306: {'core': ['beetle'], 'spurious': ['hand', 'head', 'palm', 'person', 'fingers']},\n",
    "    142: {'core': ['bird'], 'spurious': ['water', 'reflection', 'lake', 'shoal', 'sandbar']},\n",
    "    270: {'core': ['wolf'], 'spurious': ['net', 'fence', 'fencing']},\n",
    "    319: {'core': ['dragonfly'], 'spurious': ['blurry', 'green', 'flower', 'plant']},\n",
    "    366: {'core': ['gorilla'], 'spurious': ['green', 'tree', 'grass', 'trunk']},\n",
    "    792: {'core': ['shovel'], 'spurious': ['snow']},\n",
    "    539: {'core': ['doormat'], 'spurious': ['door']},\n",
    "    139: {'core': ['sandpiper'], 'spurious': ['mud', 'shore', 'sand', 'land', 'seashore']},\n",
    "    146: {'core': ['albatross'], 'spurious': ['water', 'sea', 'ocean']},\n",
    "    776: {'core': ['saxophone'], 'spurious': ['player', 'players', 'playing']},\n",
    "    \n",
    "    416: {'core': ['balance beam'], 'spurious': ['player', 'person', 'sport', 'arms', 'legs']},\n",
    "    433: {'core': ['swimming cap'], 'spurious': ['face', 'head', 'eyes', 'chest', 'person', 'swimmer']},\n",
    "    746: {'core': ['hockey puck'], 'spurious': ['player', 'bat', 'ice', 'arena']},\n",
    "    532: {'core': ['dining table'], 'spurious': ['chairs', 'chair', 'corner']},\n",
    "    768: {'core': ['rugby ball'], 'spurious': ['ground', 'green', 'players', 'player']},\n",
    "    536: {'core': ['dock'], 'spurious': ['boat', 'boats', 'ship', 'yacht', 'water', 'sea', 'lake']},\n",
    "    695: {'core': ['padlock'], 'spurious': ['chain', 'chains', 'door']},\n",
    "    739: {'core': ['potter wheel'], 'spurious': ['hands', 'hand', 'person', 'face', 'head']},\n",
    "    722: {'core': ['pingpong ball'], 'spurious': ['player', 'human', 'hands', 'arms', 'arm']},\n",
    "    693: {'core': ['paddle'], 'spurious': ['human', 'arm', 'arms', 'body', 'lifevest', 'water']},\n",
    "    \n",
    "    880: {'core': ['unicycle'], 'spurious': ['road', 'body', 'human', 'arms', 'face', 'arm']},\n",
    "    929: {'core': ['popsicle'], 'spurious': ['mouth', 'eyes', 'face', 'human', 'head', 'hand']},\n",
    "    337: {'core': ['beaver'], 'spurious': ['water', 'lake', 'waterbody']},\n",
    "    672: {'core': ['tent'], 'spurious': ['mountain', 'lake', 'water', 'hill', 'snow']},\n",
    "    384: {'core': ['indri'], 'spurious': ['sky', 'tree', 'leaf', 'leaves', 'trunk', 'vegetation', 'green']},\n",
    "    978: {'core': ['beach'], 'spurious': ['seawater', 'ocean', 'water', 'sea']},\n",
    "    836: {'core': ['sunglasses'], 'spurious': ['cheeks', 'face', 'head', 'person', 'nose']},\n",
    "    16: {'core': ['bulbul'], 'spurious': ['branch', 'tree', 'leaves', 'sky', 'leaf']},\n",
    "    970: {'core': ['mountain'], 'spurious': ['sky', 'clouds', 'blue']},\n",
    "    354: {'core': ['camel'], 'spurious': ['desert', 'sand', 'hot', 'water', 'ground']},\n",
    "}\n",
    "\n",
    "concepts = dat.concept_names\n",
    "\n",
    "def stable_argsort(scores, concepts):\n",
    "    arr = np.array(list(zip(-scores, concepts)), dtype=[('score', np.float32), ('name', np.str_)])\n",
    "    return np.argsort(arr, kind='stable', order=['score', 'name'])\n",
    "\n",
    "def get_rank(scores):\n",
    "    idxs = list(stable_argsort(scores, concepts))\n",
    "    return np.array([idxs.index(idx) + 1 for idx in range(len(scores))]) #/len(scores)\n",
    "\n",
    "algs = ['uace_none', 'uace', 'ocbm', 'ycbm']\n",
    "def get_scores(ann_dict, ci):\n",
    "    c, s = list(filter(lambda _: _ in concepts, ann_dict['core'])), list(filter(lambda _: _ in concepts, ann_dict['spurious']))\n",
    "    res = []\n",
    "    for alg in algs:\n",
    "        if alg.startswith('uace'):\n",
    "            wts = cbe[alg][0][ci]\n",
    "        else:\n",
    "            wts = cbe[alg][ci]\n",
    "        ranks = get_rank(wts)\n",
    "        # print([ranks[concepts.index(f)] for f in c])\n",
    "        # c_score = min([ranks[concepts.index(f)] for f in c])\n",
    "        c_score = 0\n",
    "        s_score = min([ranks[concepts.index(f)] for f in s])\n",
    "        res.append((alg, c_score, s_score))\n",
    "    return res\n",
    "            \n",
    "scores = {alg: [0, 0, 0] for alg in algs}\n",
    "for ci, class_idx in enumerate(dat.class_idxs):\n",
    "    class_name = CLASS_NAMES[class_idx]\n",
    "    ann = annotations[class_idx]\n",
    "    print(class_name)\n",
    "    res = get_scores(ann, ci)\n",
    "    for (alg, c_score, s_score) in res:\n",
    "        scores[alg] = [_s1 + _s2 for _s1, _s2 in zip(scores[alg], [s_score<=10, s_score<=25, s_score<=50])]\n",
    "    print(res)\n",
    "print(scores)\n",
    "\n",
    "uace_wts, _ = cbe['uace']\n",
    "ocbm_wts = cbe['ocbm']\n",
    "ycbm_wts = cbe['ycbm']\n",
    "for ci, class_idx in enumerate(dat.class_idxs):\n",
    "    class_name = CLASS_NAMES[class_idx]\n",
    "    print(f\"\\n------------------\\nClass name: {class_name}\")\n",
    "    sidxs1, sidxs2, sidxs3 = np.argsort(ycbm_wts[ci]), np.argsort(ocbm_wts[ci]), np.argsort(uace_wts[ci])\n",
    "    # print(\"Low scoring concepts\")\n",
    "    # for idx in sidxs[:10]:\n",
    "    #     print(f\"{dat.concept_names[idx]}: {wts[ci][idx]: 0.2f}\")\n",
    "    # print(\"\\n\\n\")\n",
    "    print(\"High scoring concepts\")\n",
    "    for idx in range(1, 11):\n",
    "        # print(f\"{dat.concept_names[idx]}: {uace_wts[ci][idx]: 0.2f}\")\n",
    "        print(f\"{dat.concept_names[sidxs1[-idx]]}, {dat.concept_names[sidxs2[-idx]]}, {dat.concept_names[sidxs3[-idx]]}\")\n",
    "    print(\"\\n\\n\")\n"
   ]
  },
  {
   "cell_type": "code",
   "execution_count": 20,
   "metadata": {
    "tags": []
   },
   "outputs": [],
   "source": [
    "from clip import clip\n",
    "import torch\n",
    "\n",
    "clip_model, clip_preprocess = clip.load(\"ViT-B/32\", device='cpu')\n",
    "uace_wts, _ = cbe['uace']\n",
    "ocbm_wts = cbe['ocbm']\n",
    "ycbm_wts = cbe['ycbm']\n",
    "cons_res = {}\n",
    "for ci, class_idx in enumerate(dat.class_idxs):\n",
    "    class_name = CLASS_NAMES[class_idx]\n",
    "    sidxs1, sidxs2, sidxs3 = np.argsort(ycbm_wts[ci]), np.argsort(ocbm_wts[ci]), np.argsort(uace_wts[ci])\n",
    "    for si, sidxs in enumerate([sidxs1, sidxs2, sidxs3]):\n",
    "        found_concepts = [class_name] + [dat.concept_names[sidxs[-idx]] for idx in range(1, 11)]\n",
    "        clip_embeddings = clip_model.encode_text(clip.tokenize(found_concepts))\n",
    "        csims = (torch.einsum(\"ij, j->i\", clip_embeddings[1:], clip_embeddings[0])/(torch.norm(clip_embeddings[1:], dim=-1)*torch.norm(clip_embeddings[0]))).detach().numpy().mean()\n",
    "        cons_res[si] = cons_res.get(si, 0) + csims"
   ]
  },
  {
   "cell_type": "code",
   "execution_count": 21,
   "metadata": {
    "tags": []
   },
   "outputs": [
    {
     "data": {
      "text/plain": [
       "{0: 14.264372944831848, 1: 14.757664918899536, 2: 14.652559161186218}"
      ]
     },
     "execution_count": 21,
     "metadata": {},
     "output_type": "execute_result"
    }
   ],
   "source": [
    "cons_res"
   ]
  }
 ],
 "metadata": {
  "kernelspec": {
   "display_name": "Python 3 (ipykernel)",
   "language": "python",
   "name": "python3"
  },
  "language_info": {
   "codemirror_mode": {
    "name": "ipython",
    "version": 3
   },
   "file_extension": ".py",
   "mimetype": "text/x-python",
   "name": "python",
   "nbconvert_exporter": "python",
   "pygments_lexer": "ipython3",
   "version": "3.9.16"
  }
 },
 "nbformat": 4,
 "nbformat_minor": 4
}
